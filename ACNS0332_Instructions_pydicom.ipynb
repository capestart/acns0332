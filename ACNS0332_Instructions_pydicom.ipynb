{
 "cells": [
  {
   "cell_type": "markdown",
   "metadata": {},
   "source": [
    "## ACNS0332 TCIA Dataset - Getting Started in Python"
   ]
  },
  {
   "cell_type": "markdown",
   "metadata": {},
   "source": [
    "ACNS0332 volumetric segmentation data is stored in DICOM Segmentation (SEG) format. To work with DICOM SEG files in python, we recommend using `pydicom-seg` package. Please see pydicom-seg documentation here: https://razorx89.github.io/pydicom-seg/\n",
    "\n",
    "Below are basic instructions for loading, exporting, and viewing data in DICOM SEG format."
   ]
  },
  {
   "cell_type": "markdown",
   "metadata": {},
   "source": [
    "### Installation"
   ]
  },
  {
   "cell_type": "markdown",
   "metadata": {},
   "source": [
    "`pip install pydicom pydicom-seg SimpleITK`"
   ]
  },
  {
   "cell_type": "markdown",
   "metadata": {},
   "source": [
    "## Loading DICOM SEG data"
   ]
  },
  {
   "cell_type": "markdown",
   "metadata": {},
   "source": [
    "    import pydicom\n",
    "    import pydicom_seg\n",
    "    import SimpleITK as sitk\n",
    "\n",
    "    dcm = pydicom.dcmread('PARFPM/Annotations/1-Pre-Operative-SEG_20220115_184359_878_S66.dcm')\n",
    "\n",
    "    reader = pydicom_seg.SegmentReader()\n",
    "    result = reader.read(dcm)\n",
    "\n",
    "    for segment_number in result.available_segments:\n",
    "        image_data = result.segment_data(segment_number)  # directly available\n",
    "        image = result.segment_image(segment_number)  # lazy construction\n"
   ]
  },
  {
   "cell_type": "markdown",
   "metadata": {},
   "source": [
    "## Export to Another Format"
   ]
  },
  {
   "cell_type": "markdown",
   "metadata": {},
   "source": [
    "    sitk.WriteImage(image, f'exported_segmentation.nii.gz', True)"
   ]
  }
 ],
 "metadata": {
  "interpreter": {
   "hash": "9d6a1f616942fc681c6c9bd13d8fbc0111fd33614abe4d1fd8f25f2c9aff88f3"
  },
  "kernelspec": {
   "display_name": "Python 3.8.10 64-bit ('tf2.5': conda)",
   "language": "python",
   "name": "python3"
  },
  "language_info": {
   "codemirror_mode": {
    "name": "ipython",
    "version": 3
   },
   "file_extension": ".py",
   "mimetype": "text/x-python",
   "name": "python",
   "nbconvert_exporter": "python",
   "pygments_lexer": "ipython3",
   "version": "3.8.12"
  },
  "orig_nbformat": 4
 },
 "nbformat": 4,
 "nbformat_minor": 2
}
