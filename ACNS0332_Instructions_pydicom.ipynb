{
 "cells": [
  {
   "cell_type": "markdown",
   "metadata": {},
   "source": [
    "## ACNS0332 TCIA Dataset - Getting Started in Python"
   ]
  },
  {
   "cell_type": "markdown",
   "metadata": {},
   "source": [
    "ACNS0332 volumetric segmentation data is stored in DICOM Segmentation (SEG) format. To work with DICOM SEG files in python, we recommend using `pydicom-seg` package. Please see pydicom-seg documentation here: https://razorx89.github.io/pydicom-seg/\n",
    "\n",
    "Below are basic instructions for loading, exporting, and viewing data in DICOM SEG format."
   ]
  },
  {
   "cell_type": "markdown",
   "metadata": {},
   "source": [
    "### Installation"
   ]
  },
  {
   "cell_type": "code",
   "execution_count": null,
   "metadata": {},
   "outputs": [],
   "source": [
    "!pip install pandas pydicom pydicom-seg SimpleITK"
   ]
  },
  {
   "cell_type": "markdown",
   "metadata": {},
   "source": [
    "### Example 1: Loading and Export DICOM SEG data"
   ]
  },
  {
   "cell_type": "code",
   "execution_count": 1,
   "metadata": {},
   "outputs": [],
   "source": [
    "import pydicom\n",
    "import pydicom_seg\n",
    "import SimpleITK as sitk\n",
    "\n",
    "dicom_seg_file = 'annotations/PARJIR/Annotations/1-Pre-Operative/SEG_20211223_002454_076_S6.dcm'\n",
    "dcm_file = pydicom.dcmread(dicom_seg_file)\n",
    "\n",
    "reader = pydicom_seg.SegmentReader()\n",
    "result = reader.read(dcm_file)\n",
    "\n",
    "for segment_number in result.available_segments:\n",
    "    image_data = result.segment_data(segment_number)\n",
    "    image = result.segment_image(segment_number)\n",
    "\n",
    "sitk.WriteImage(image, f'exported_segmentation.nii.gz', True)"
   ]
  },
  {
   "cell_type": "markdown",
   "metadata": {},
   "source": [
    "### Example 2: Calculate Segmentation Volume"
   ]
  },
  {
   "cell_type": "code",
   "execution_count": 15,
   "metadata": {},
   "outputs": [
    {
     "name": "stdout",
     "output_type": "stream",
     "text": [
      "Segmented volume: 2744.36 mm^3\n"
     ]
    }
   ],
   "source": [
    "def get_segmentation_volume(file: str) -> float:\n",
    "    \"\"\"Get the volume of the segmentation in mm^3.\"\"\"    \n",
    "    dcm = pydicom.dcmread(file)\n",
    "    reader = pydicom_seg.SegmentReader()\n",
    "    result = reader.read(dcm)\n",
    "    if len(result.available_segments) > 1:\n",
    "        print(f'Warning: Segmentation file {file} contains multiple segments. Summing volumes of all segments.')\n",
    "    volume = 0\n",
    "    for segment_number in result.available_segments:\n",
    "        image_data = result.segment_data(segment_number)\n",
    "        [sx, sy, sz] = result.segment_image(segment_number).GetSpacing()\n",
    "        volume += image_data.sum() * sx * sy * sz\n",
    "    return volume\n",
    "\n",
    "print('Segmented volume: %.2f mm^3' % get_segmentation_volume(dicom_seg_file))"
   ]
  },
  {
   "cell_type": "markdown",
   "metadata": {},
   "source": [
    "### Example 3: Extract DICOM Metadata and save to CSV file"
   ]
  },
  {
   "cell_type": "code",
   "execution_count": null,
   "metadata": {},
   "outputs": [],
   "source": [
    "# import process_annotations\n",
    "import glob\n",
    "import os\n",
    "\n",
    "import pandas as pd\n",
    "import pydicom\n",
    "\n",
    "\n",
    "data_path = 'annotations/'\n",
    "patient_dirs = glob.glob(f'{data_path}PA*')\n",
    "print('Processing patient from: ', patient_dirs)\n",
    "\n",
    "first_row = True\n",
    "for case_num, patient_dir in enumerate(patient_dirs, start = 1):\n",
    "    print(f'Extracting from case {os.path.basename(patient_dir)}, {case_num} out of {len(patient_dirs)}')\n",
    "    dcm_files = glob.glob(f'{patient_dir}/**/*.dcm', recursive=True)\n",
    "\n",
    "    for file in dcm_files:\n",
    "        ds = pydicom.dcmread(file, stop_before_pixels=False)\n",
    "        \n",
    "        # Only extract data from DICOM RTSS and SEG files\n",
    "        if ds.get('SOPClassUID') == '1.2.840.10008.5.1.4.1.1.481.3' or ds.get('SOPClassUID') == '1.2.840.10008.5.1.4.1.1.66.4':    \n",
    "            \n",
    "            # Common tags\n",
    "            data = {\n",
    "                'PatientID': [ds.get('PatientID')],\n",
    "                'file': [file],\n",
    "                'ClinicalTrialTimePointID': [ds.get('ClinicalTrialTimePointID')],\n",
    "                'SeriesInstanceUID': [ds.get('SeriesInstanceUID')],                                 \n",
    "                'SeriesDescription': [ds.get('SeriesDescription')], \n",
    "                }\n",
    "\n",
    "            # RTSS tags\n",
    "            if ds.get('SOPClassUID') == '1.2.840.10008.5.1.4.1.1.481.3':\n",
    "                data.update({\n",
    "                    'DICOM Type': ['RTSS'],\n",
    "                    'StructureSetLabel': [ds.get('StructureSetLabel')],\n",
    "                })\n",
    "\n",
    "            # SEG tags\n",
    "            if ds.get('SOPClassUID') == '1.2.840.10008.5.1.4.1.1.66.4':                \n",
    "                data.update({\n",
    "                    'DICOM Type': ['SEG'],\n",
    "                    'Segment Label': [ds.SegmentSequence[0].SegmentLabel],\n",
    "                    'Volume': [get_segmentation_volume(file)],\n",
    "                })\n",
    "                if 'AnatomicRegionSequence' in ds.SegmentSequence[0]:\n",
    "                    data.update({\n",
    "                        'Anatomic Region': [ds.SegmentSequence[0].AnatomicRegionSequence[0].get('CodeMeaning')],\n",
    "                    })\n",
    "                    if 'AnatomicRegionModifierSequence' in ds.SegmentSequence[0].AnatomicRegionSequence[0]:\n",
    "                        data.update({\n",
    "                            'Anatomic Region Modifier': [ds.SegmentSequence[0].AnatomicRegionSequence[0].AnatomicRegionModifierSequence[0].get('CodeMeaning')],\n",
    "                        })\n",
    "            \n",
    "            # Add row to dataframe\n",
    "            if first_row:\n",
    "                df = pd.DataFrame(data)\n",
    "                first_row = False\n",
    "            else:\n",
    "                df = pd.concat([df, pd.DataFrame(data)], ignore_index = True, axis = 0)\n",
    "        else:\n",
    "            print('Skipping file: ', file)\n",
    "\n",
    "df.to_csv('annotations_metadata.csv')"
   ]
  }
 ],
 "metadata": {
  "interpreter": {
   "hash": "9d6a1f616942fc681c6c9bd13d8fbc0111fd33614abe4d1fd8f25f2c9aff88f3"
  },
  "kernelspec": {
   "display_name": "Python 3.8.10 64-bit ('tf2.5': conda)",
   "language": "python",
   "name": "python3"
  },
  "language_info": {
   "codemirror_mode": {
    "name": "ipython",
    "version": 3
   },
   "file_extension": ".py",
   "mimetype": "text/x-python",
   "name": "python",
   "nbconvert_exporter": "python",
   "pygments_lexer": "ipython3",
   "version": "3.8.10"
  },
  "orig_nbformat": 4
 },
 "nbformat": 4,
 "nbformat_minor": 2
}
